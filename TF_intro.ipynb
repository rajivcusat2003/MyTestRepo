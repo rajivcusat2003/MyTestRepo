{
  "nbformat": 4,
  "nbformat_minor": 0,
  "metadata": {
    "colab": {
      "name": "Untitled2.ipynb",
      "version": "0.3.2",
      "provenance": [],
      "include_colab_link": true
    },
    "kernelspec": {
      "name": "python3",
      "display_name": "Python 3"
    }
  },
  "cells": [
    {
      "cell_type": "markdown",
      "metadata": {
        "id": "view-in-github",
        "colab_type": "text"
      },
      "source": [
        "[View in Colaboratory](https://colab.research.google.com/github/rajivcusat2003/MyTestRepo/blob/master/TF_intro.ipynb)"
      ]
    },
    {
      "metadata": {
        "id": "SsUuFIvo0prp",
        "colab_type": "code",
        "colab": {
          "base_uri": "https://localhost:8080/",
          "height": 69
        },
        "outputId": "1cdd748f-5bfc-4cff-8412-ac48d287857b"
      },
      "cell_type": "code",
      "source": [
        "import tensorflow as tf\n",
        "a = tf.constant(3.0, dtype=tf.float32)\n",
        "b = tf.constant(4.0) # also tf.float32 implicitly\n",
        "total = a + b\n",
        "print(a)\n",
        "print(b)\n",
        "print(total)"
      ],
      "execution_count": 91,
      "outputs": [
        {
          "output_type": "stream",
          "text": [
            "Tensor(\"Const_10:0\", shape=(), dtype=float32)\n",
            "Tensor(\"Const_11:0\", shape=(), dtype=float32)\n",
            "Tensor(\"add_49:0\", shape=(), dtype=float32)\n"
          ],
          "name": "stdout"
        }
      ]
    },
    {
      "metadata": {
        "id": "cekbKX8I4WMc",
        "colab_type": "code",
        "colab": {
          "base_uri": "https://localhost:8080/",
          "height": 52
        },
        "outputId": "2a108621-8e11-4613-b22a-54593706f6af"
      },
      "cell_type": "code",
      "source": [
        "sess = tf.Session()\n",
        "print(sess.run(total))\n",
        "print(sess.run({'ab':(a, b), 'total':total}))"
      ],
      "execution_count": 92,
      "outputs": [
        {
          "output_type": "stream",
          "text": [
            "7.0\n",
            "{'ab': (3.0, 4.0), 'total': 7.0}\n"
          ],
          "name": "stdout"
        }
      ]
    },
    {
      "metadata": {
        "id": "JZ0ZTsu75hQB",
        "colab_type": "code",
        "colab": {
          "base_uri": "https://localhost:8080/",
          "height": 52
        },
        "outputId": "b7bb62e5-6115-42dd-b2d8-aa7487f78b4c"
      },
      "cell_type": "code",
      "source": [
        "vec = tf.random_uniform(shape=(3,))\n",
        "out1 = vec + 1\n",
        "out2 = vec + 2\n",
        "print(sess.run(vec))\n",
        "#print(sess.run(vec))\n",
        "print(sess.run((out1, out2)))\n",
        "\n"
      ],
      "execution_count": 93,
      "outputs": [
        {
          "output_type": "stream",
          "text": [
            "[0.12019908 0.99476564 0.62069476]\n",
            "(array([1.3563507, 1.5963343, 1.1196798], dtype=float32), array([2.3563507, 2.5963345, 2.11968  ], dtype=float32))\n"
          ],
          "name": "stdout"
        }
      ]
    },
    {
      "metadata": {
        "id": "o4U5BXDqM37p",
        "colab_type": "code",
        "colab": {
          "base_uri": "https://localhost:8080/",
          "height": 52
        },
        "outputId": "eec084e0-f542-4e77-d062-4a5804c87d31"
      },
      "cell_type": "code",
      "source": [
        "first_primes = tf.Variable([2, 3, 5, 7, 11], tf.int32)\n",
        "init = tf.global_variables_initializer()\n",
        "with tf.Session() as sess:\n",
        "    sess.run(init)\n",
        "    print(sess.run(tf.rank(first_primes)))\n",
        "    v1 = first_primes.eval()\n",
        "    print(v1)  # will show you your variable.\n",
        "    "
      ],
      "execution_count": 95,
      "outputs": [
        {
          "output_type": "stream",
          "text": [
            "1\n",
            "[ 2  3  5  7 11]\n"
          ],
          "name": "stdout"
        }
      ]
    }
  ]
}